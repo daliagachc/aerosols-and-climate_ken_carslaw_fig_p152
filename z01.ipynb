{
 "cells": [
  {
   "cell_type": "code",
   "execution_count": 1,
   "metadata": {
    "collapsed": true
   },
   "outputs": [],
   "source": [
    "#region imports\n",
    "from IPython import get_ipython\n",
    "\n",
    "# noinspection PyBroadException\n",
    "try:\n",
    "    _magic = get_ipython().run_line_magic\n",
    "    _magic(\"load_ext\", \"autoreload\")\n",
    "    _magic(\"autoreload\", \"2\")\n",
    "except:\n",
    "    pass\n",
    "\n",
    "# noinspection PyUnresolvedReferences\n",
    "import datetime as dt\n",
    "# noinspection PyUnresolvedReferences\n",
    "import glob\n",
    "# noinspection PyUnresolvedReferences\n",
    "import os\n",
    "# noinspection PyUnresolvedReferences\n",
    "import pprint\n",
    "# noinspection PyUnresolvedReferences\n",
    "import sys\n",
    "# noinspection PyUnresolvedReferences\n",
    "import cartopy as crt\n",
    "# noinspection PyUnresolvedReferences\n",
    "import matplotlib as mpl\n",
    "# noinspection PyUnresolvedReferences\n",
    "import matplotlib.colors\n",
    "# noinspection PyUnresolvedReferences\n",
    "import matplotlib.pyplot as plt\n",
    "# noinspection PyUnresolvedReferences\n",
    "import numpy as np\n",
    "# noinspection PyUnresolvedReferences\n",
    "import pandas as pd\n",
    "# noinspection PyUnresolvedReferences\n",
    "import seaborn as sns\n",
    "# noinspection PyUnresolvedReferences\n",
    "import xarray as xr\n",
    "# noinspection PyUnresolvedReferences\n",
    "#import bnn_tools.bnn_array\n",
    "\n",
    "plt.style.use('default')\n",
    "xr.set_options(\n",
    "    display_expand_data = False,\n",
    "    display_expand_data_vars = True,\n",
    "    display_max_rows = 10,\n",
    "    display_style = 'html',\n",
    "    display_width = 80,\n",
    "    display_expand_attrs = False\n",
    ");\n",
    "#endregion"
   ]
  },
  {
   "cell_type": "code",
   "execution_count": 93,
   "outputs": [
    {
     "data": {
      "text/plain": "0"
     },
     "execution_count": 93,
     "metadata": {},
     "output_type": "execute_result"
    },
    {
     "data": {
      "text/plain": "<Figure size 700x500 with 2 Axes>",
      "image/png": "[encoded data removed]"
     },
     "metadata": {},
     "output_type": "display_data"
    }
   ],
   "source": [
    "#region sciplot\n",
    "# noinspection PyUnresolvedReferences\n",
    "import scienceplots\n",
    "plt.style.use([\n",
    "    'default',\n",
    "    # 'science',\n",
    "    # 'notebook',\n",
    "    'acp',\n",
    "    'sp-grid',\n",
    "    'no-black'\n",
    "])\n",
    "#endregion sciplot\n",
    "res = (\n",
    "    pd.read_excel('Book1.xlsx', index_col=0)\n",
    "    .applymap(lambda d: str(d).replace('days','*24*3600'))\n",
    "    .applymap(lambda d: str(d).replace('d','*24*3600'))\n",
    "    .applymap(lambda d: str(d).replace('h','*3600'))\n",
    "    .applymap(lambda d: str(d).replace('min','*60'))\n",
    "    .applymap(lambda d: eval(d) if d != 'nan' else np.nan )\n",
    "    .rename(index = lambda d:eval(d.replace('nm','*1e-9').replace('um','*1e-6')))\n",
    "    .rename(columns = lambda d:eval(d.replace('nm','*1e-9').replace('um','*1e-6')))\n",
    "    .rename_axis(index='particle diameter', columns=\"diameter coagulating particles at conc. 100/cc\")\n",
    "    .stack()\n",
    "    .to_xarray()\n",
    "    # .pipe(lambda d: d/3600)\n",
    "    .plot(\n",
    "        xscale = 'log',\n",
    "        yscale = 'log',\n",
    "        norm = mpl.colors.LogNorm(vmin=60, vmax=3600*24*365),\n",
    "        cmap = plt.get_cmap('plasma',8)\n",
    "    )\n",
    ")\n",
    "\n",
    "ax:plt.Axes = plt.gca()\n",
    "# ax.invert_yaxis()\n",
    "# ax.invert_xaxis()\n",
    "\n",
    "cax = res.colorbar.ax\n",
    "cax.set_title('Lifetime',ha='left')\n",
    "\n",
    "cax.set_yticks([],minor=True)\n",
    "cax.set_yticks([60,600,3600,3600*24,3600*24*30,3600*24*365])\n",
    "cax.set_yticklabels(['1 min','10 min','1 hour','1 day','1 month', '1 year'])\n",
    "\n",
    "ax.set_xticks([1e-9,1e-8,1e-7,1e-6])\n",
    "ax.set_xticklabels(['1nm','10nm','0.1um','1um'])\n",
    "\n",
    "ax.set_yticks([1e-9,1e-8,1e-7,1e-6])\n",
    "ax.set_yticklabels(['1nm','10nm','0.1um','1um'])\n",
    "\n",
    "ax.set_yticks([],minor=True)\n",
    "\n",
    "\n",
    "f:plt.Figure = plt.gcf()\n",
    "f.set_size_inches(3.5,2.5)\n",
    "\n",
    "f.subplots_adjust(left=.2,right = .8, bottom = .3)\n",
    "\n",
    "#region temp open fig\n",
    "_p_ = '/tmp/f.pdf';plt.gcf().savefig(_p_);\n",
    "os.system(f'open {_p_}')\n",
    "#endregion temp open fig\n"
   ],
   "metadata": {
    "collapsed": false
   }
  },
  {
   "cell_type": "code",
   "execution_count": 34,
   "outputs": [
    {
     "data": {
      "text/plain": "<AxesSubplot: label='<colorbar>'>"
     },
     "execution_count": 34,
     "metadata": {},
     "output_type": "execute_result"
    }
   ],
   "source": [],
   "metadata": {
    "collapsed": false
   }
  }
 ],
 "metadata": {
  "kernelspec": {
   "name": "conda-env-q5-py",
   "language": "python",
   "display_name": "Python [conda env:q5]"
  },
  "language_info": {
   "codemirror_mode": {
    "name": "ipython",
    "version": 2
   },
   "file_extension": ".py",
   "mimetype": "text/x-python",
   "name": "python",
   "nbconvert_exporter": "python",
   "pygments_lexer": "ipython2",
   "version": "2.7.6"
  }
 },
 "nbformat": 4,
 "nbformat_minor": 0
}
